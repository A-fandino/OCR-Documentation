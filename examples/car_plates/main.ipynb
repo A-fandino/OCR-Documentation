{
 "cells": [
  {
   "cell_type": "code",
   "execution_count": null,
   "metadata": {},
   "outputs": [],
   "source": [
    "import cv2\n",
    "import imutils\n",
    "import pytesseract\n",
    "from matplotlib import pyplot as plt"
   ]
  },
  {
   "cell_type": "code",
   "execution_count": null,
   "metadata": {},
   "outputs": [],
   "source": [
    "\n",
    "# Tesseract Binary Installation path\n",
    "pytesseract.pytesseract.tesseract_cmd = \"D:\\\\Program Files\\\\Tesseract-OCR\\\\tesseract\""
   ]
  },
  {
   "cell_type": "code",
   "execution_count": null,
   "metadata": {},
   "outputs": [],
   "source": [
    "#Load the image\n",
    "img = cv2.imread(\"plate.jpg\") # Source: https://www.autobild.es/practicos/como-saber-letra-va-matricula-coches-581133\n",
    "\n",
    "# Resize the image so it is faster to work with it\n",
    "img = imutils.resize(img, width=300)"
   ]
  },
  {
   "cell_type": "code",
   "execution_count": null,
   "metadata": {},
   "outputs": [],
   "source": [
    "# Convert it to grayscale\n",
    "grayscale_img = cv2.cvtColor(img, cv2.COLOR_BGR2GRAY)"
   ]
  },
  {
   "cell_type": "code",
   "execution_count": null,
   "metadata": {},
   "outputs": [],
   "source": [
    "# Remove noise by applying Bilateral Filter. More info: https://dsp.stackexchange.com/questions/8316/the-difference-between-bilateral-filter-and-gaussian-filter\n",
    "smooth_img = cv2.bilateralFilter(grayscale_img, 11, 11, 17)"
   ]
  },
  {
   "cell_type": "code",
   "execution_count": null,
   "metadata": {},
   "outputs": [],
   "source": [
    "# Find the edges\n",
    "edges_only = cv2.Canny(img, 20, 300)\n",
    "plt.imshow(cv2.cvtColor(edges_only, cv2.COLOR_BGR2RGB))"
   ]
  },
  {
   "cell_type": "code",
   "execution_count": null,
   "metadata": {},
   "outputs": [],
   "source": [
    "import numpy as np\n",
    "kernel = np.ones((2,2),np.uint8)\n",
    "edges_only = cv2.dilate(edges_only,kernel,iterations = 1)\n",
    "\n",
    "plt.imshow(cv2.cvtColor(edges_only, cv2.COLOR_BGR2RGB))"
   ]
  },
  {
   "cell_type": "code",
   "execution_count": null,
   "metadata": {},
   "outputs": [],
   "source": [
    "#Find countours in image\n",
    "cnts,new = cv2.findContours(edges_only, cv2.RETR_LIST, cv2.CHAIN_APPROX_SIMPLE)"
   ]
  },
  {
   "cell_type": "code",
   "execution_count": null,
   "metadata": {},
   "outputs": [],
   "source": [
    "#Display the countours\n",
    "img_with_contours=img.copy()\n",
    "cv2.drawContours(img_with_contours,cnts,-1,(0,255,0),1)\n",
    "plt.imshow(cv2.cvtColor(img_with_contours, cv2.COLOR_BGR2RGB))"
   ]
  },
  {
   "cell_type": "code",
   "execution_count": null,
   "metadata": {},
   "outputs": [],
   "source": [
    "# Filter countours\n",
    "sorted_cnts = sorted(cnts, key = cv2.contourArea, reverse = True)[:20]\n",
    "screenCnt = None\n"
   ]
  },
  {
   "cell_type": "code",
   "execution_count": null,
   "metadata": {},
   "outputs": [],
   "source": [
    "# Display filtered contours\n",
    "filtered_img = img.copy()\n",
    "cv2.drawContours(filtered_img,sorted_cnts,-1,(0,200,0),1)\n",
    "plt.imshow(cv2.cvtColor(filtered_img, cv2.COLOR_BGR2RGB))"
   ]
  },
  {
   "cell_type": "code",
   "execution_count": null,
   "metadata": {},
   "outputs": [],
   "source": [
    "i=7\n",
    "final_img = None\n",
    "for c in sorted_cnts:\n",
    "    perimeter = cv2.arcLength(c, True)\n",
    "    approx = cv2.approxPolyDP(c, 0.018* perimeter, True)\n",
    "    area = cv2.contourArea(c)\n",
    "    if len(approx) == 4 and area>100: \n",
    "        screenCnt = approx\n",
    "        x,y,w,h = cv2.boundingRect(c)\n",
    "        final_img=img[y:y+h,x:x+w]\n",
    "        i+=1\n",
    "        break\n",
    "plt.imshow(cv2.cvtColor(final_img, cv2.COLOR_BGR2RGB))"
   ]
  },
  {
   "cell_type": "code",
   "execution_count": null,
   "metadata": {},
   "outputs": [],
   "source": [
    "\n",
    "#Read from image\n",
    "plate = pytesseract.image_to_string(final_img, lang='eng',config='--psm 10 --oem 3 -c tessedit_char_whitelist=BCDFGHIJKLMNPRSTVWZYZ0123456789')\n",
    "print(\"Number plate is:\", plate)"
   ]
  }
 ],
 "metadata": {
  "kernelspec": {
   "display_name": "Python 3.10.7 ('venv': venv)",
   "language": "python",
   "name": "python3"
  },
  "language_info": {
   "codemirror_mode": {
    "name": "ipython",
    "version": 3
   },
   "file_extension": ".py",
   "mimetype": "text/x-python",
   "name": "python",
   "nbconvert_exporter": "python",
   "pygments_lexer": "ipython3",
   "version": "3.10.7"
  },
  "orig_nbformat": 4,
  "vscode": {
   "interpreter": {
    "hash": "7c2c0638e687d4525954dcc5ef383424d8e1c712512da379c61c3d7b6c0b8895"
   }
  }
 },
 "nbformat": 4,
 "nbformat_minor": 2
}
